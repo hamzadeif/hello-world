{
  "nbformat": 4,
  "nbformat_minor": 0,
  "metadata": {
    "kernelspec": {
      "display_name": "Python 3",
      "language": "python",
      "name": "python3"
    },
    "language_info": {
      "codemirror_mode": {
        "name": "ipython",
        "version": 3
      },
      "file_extension": ".py",
      "mimetype": "text/x-python",
      "name": "python",
      "nbconvert_exporter": "python",
      "pygments_lexer": "ipython3",
      "version": "3.6.4"
    },
    "colab": {
      "provenance": [],
      "include_colab_link": true
    }
  },
  "cells": [
    {
      "cell_type": "markdown",
      "metadata": {
        "id": "view-in-github",
        "colab_type": "text"
      },
      "source": [
        "<a href=\"https://colab.research.google.com/github/hamzadeif/hello-world/blob/main/Copy_of_DATA_301_Lab_2B_Evidence_of_Discrimination%3F_Hamza_Deif.ipynb\" target=\"_parent\"><img src=\"https://colab.research.google.com/assets/colab-badge.svg\" alt=\"Open In Colab\"/></a>"
      ]
    },
    {
      "cell_type": "markdown",
      "metadata": {
        "id": "3GRr9ej57rEW"
      },
      "source": [
        "# Evidence of Discrimination?\n",
        "\n",
        "The Department of Developmental Services (DDS) in California is responsible for allocating funds to support over 250,000 developmentally-disabled residents. The data set `https://dlsun.github.io/pods/data/ca_dds_expenditures.csv` contains data about 1,000 of these residents. The data comes from a discrimination lawsuit which alleged that California's Department of Developmental Services (DDS) privileged white (non-Hispanic) residents over Hispanic residents in allocating funds. We will focus on comparing the allocation of funds (i.e., expenditures) for these two ethnicities only, although there are other ethnicities in this data set.\n",
        "\n",
        "There are 6 variables in this data set:\n",
        "\n",
        "- Id:  5-digit, unique identification code for each consumer (similar to a social security number and used for identification purposes)  \n",
        "- Age Cohort:  Binned age variable represented as six age cohorts (0-5, 6-12, 13-17, 18-21, 22-50, and 51+)\n",
        "- Age:  Unbinned age variable\n",
        "- Gender:  Male or Female\n",
        "- Expenditures:  Dollar amount of annual expenditures spent on each consumer\n",
        "- Ethnicity:  Eight ethnic groups (American Indian, Asian, Black, Hispanic, Multi-race, Native Hawaiian, Other, and White non-Hispanic)"
      ]
    },
    {
      "cell_type": "markdown",
      "metadata": {
        "id": "pBrvxdVd7rEY"
      },
      "source": [
        "# Question 1\n",
        "\n",
        "Read in the data set. Make a graphic that compares the _average_ expenditures by the DDS on Hispanic residents and white (non-Hispanic) residents. Comment on what you see."
      ]
    },
    {
      "cell_type": "code",
      "metadata": {
        "id": "HPu1DTOY7rEa",
        "colab": {
          "base_uri": "https://localhost:8080/",
          "height": 424
        },
        "outputId": "aa3e732f-c70c-46fa-d2e5-bd39bd68de6b"
      },
      "source": [
        "import pandas as pd\n",
        "data_dir = \"https://dlsun.github.io/pods/data/ca_dds_expenditures.csv\"\n",
        "df_residents = pd.read_csv(data_dir)\n",
        "df_residents"
      ],
      "execution_count": 8,
      "outputs": [
        {
          "output_type": "execute_result",
          "data": {
            "text/plain": [
              "        Id Age Cohort  Age  Gender  Expenditures           Ethnicity\n",
              "0    10210   13 to 17   17  Female          2113  White not Hispanic\n",
              "1    10409   22 to 50   37    Male         41924  White not Hispanic\n",
              "2    10486     0 to 5    3    Male          1454            Hispanic\n",
              "3    10538   18 to 21   19  Female          6400            Hispanic\n",
              "4    10568   13 to 17   13    Male          4412  White not Hispanic\n",
              "..     ...        ...  ...     ...           ...                 ...\n",
              "995  99622        51+   86  Female         57055  White not Hispanic\n",
              "996  99715   18 to 21   20    Male          7494            Hispanic\n",
              "997  99718   13 to 17   17  Female          3673          Multi Race\n",
              "998  99791    6 to 12   10    Male          3638            Hispanic\n",
              "999  99898   22 to 50   23    Male         26702  White not Hispanic\n",
              "\n",
              "[1000 rows x 6 columns]"
            ],
            "text/html": [
              "\n",
              "  <div id=\"df-93dfe7da-f622-462c-8335-7347dfccbe46\">\n",
              "    <div class=\"colab-df-container\">\n",
              "      <div>\n",
              "<style scoped>\n",
              "    .dataframe tbody tr th:only-of-type {\n",
              "        vertical-align: middle;\n",
              "    }\n",
              "\n",
              "    .dataframe tbody tr th {\n",
              "        vertical-align: top;\n",
              "    }\n",
              "\n",
              "    .dataframe thead th {\n",
              "        text-align: right;\n",
              "    }\n",
              "</style>\n",
              "<table border=\"1\" class=\"dataframe\">\n",
              "  <thead>\n",
              "    <tr style=\"text-align: right;\">\n",
              "      <th></th>\n",
              "      <th>Id</th>\n",
              "      <th>Age Cohort</th>\n",
              "      <th>Age</th>\n",
              "      <th>Gender</th>\n",
              "      <th>Expenditures</th>\n",
              "      <th>Ethnicity</th>\n",
              "    </tr>\n",
              "  </thead>\n",
              "  <tbody>\n",
              "    <tr>\n",
              "      <th>0</th>\n",
              "      <td>10210</td>\n",
              "      <td>13 to 17</td>\n",
              "      <td>17</td>\n",
              "      <td>Female</td>\n",
              "      <td>2113</td>\n",
              "      <td>White not Hispanic</td>\n",
              "    </tr>\n",
              "    <tr>\n",
              "      <th>1</th>\n",
              "      <td>10409</td>\n",
              "      <td>22 to 50</td>\n",
              "      <td>37</td>\n",
              "      <td>Male</td>\n",
              "      <td>41924</td>\n",
              "      <td>White not Hispanic</td>\n",
              "    </tr>\n",
              "    <tr>\n",
              "      <th>2</th>\n",
              "      <td>10486</td>\n",
              "      <td>0 to 5</td>\n",
              "      <td>3</td>\n",
              "      <td>Male</td>\n",
              "      <td>1454</td>\n",
              "      <td>Hispanic</td>\n",
              "    </tr>\n",
              "    <tr>\n",
              "      <th>3</th>\n",
              "      <td>10538</td>\n",
              "      <td>18 to 21</td>\n",
              "      <td>19</td>\n",
              "      <td>Female</td>\n",
              "      <td>6400</td>\n",
              "      <td>Hispanic</td>\n",
              "    </tr>\n",
              "    <tr>\n",
              "      <th>4</th>\n",
              "      <td>10568</td>\n",
              "      <td>13 to 17</td>\n",
              "      <td>13</td>\n",
              "      <td>Male</td>\n",
              "      <td>4412</td>\n",
              "      <td>White not Hispanic</td>\n",
              "    </tr>\n",
              "    <tr>\n",
              "      <th>...</th>\n",
              "      <td>...</td>\n",
              "      <td>...</td>\n",
              "      <td>...</td>\n",
              "      <td>...</td>\n",
              "      <td>...</td>\n",
              "      <td>...</td>\n",
              "    </tr>\n",
              "    <tr>\n",
              "      <th>995</th>\n",
              "      <td>99622</td>\n",
              "      <td>51+</td>\n",
              "      <td>86</td>\n",
              "      <td>Female</td>\n",
              "      <td>57055</td>\n",
              "      <td>White not Hispanic</td>\n",
              "    </tr>\n",
              "    <tr>\n",
              "      <th>996</th>\n",
              "      <td>99715</td>\n",
              "      <td>18 to 21</td>\n",
              "      <td>20</td>\n",
              "      <td>Male</td>\n",
              "      <td>7494</td>\n",
              "      <td>Hispanic</td>\n",
              "    </tr>\n",
              "    <tr>\n",
              "      <th>997</th>\n",
              "      <td>99718</td>\n",
              "      <td>13 to 17</td>\n",
              "      <td>17</td>\n",
              "      <td>Female</td>\n",
              "      <td>3673</td>\n",
              "      <td>Multi Race</td>\n",
              "    </tr>\n",
              "    <tr>\n",
              "      <th>998</th>\n",
              "      <td>99791</td>\n",
              "      <td>6 to 12</td>\n",
              "      <td>10</td>\n",
              "      <td>Male</td>\n",
              "      <td>3638</td>\n",
              "      <td>Hispanic</td>\n",
              "    </tr>\n",
              "    <tr>\n",
              "      <th>999</th>\n",
              "      <td>99898</td>\n",
              "      <td>22 to 50</td>\n",
              "      <td>23</td>\n",
              "      <td>Male</td>\n",
              "      <td>26702</td>\n",
              "      <td>White not Hispanic</td>\n",
              "    </tr>\n",
              "  </tbody>\n",
              "</table>\n",
              "<p>1000 rows × 6 columns</p>\n",
              "</div>\n",
              "      <button class=\"colab-df-convert\" onclick=\"convertToInteractive('df-93dfe7da-f622-462c-8335-7347dfccbe46')\"\n",
              "              title=\"Convert this dataframe to an interactive table.\"\n",
              "              style=\"display:none;\">\n",
              "        \n",
              "  <svg xmlns=\"http://www.w3.org/2000/svg\" height=\"24px\"viewBox=\"0 0 24 24\"\n",
              "       width=\"24px\">\n",
              "    <path d=\"M0 0h24v24H0V0z\" fill=\"none\"/>\n",
              "    <path d=\"M18.56 5.44l.94 2.06.94-2.06 2.06-.94-2.06-.94-.94-2.06-.94 2.06-2.06.94zm-11 1L8.5 8.5l.94-2.06 2.06-.94-2.06-.94L8.5 2.5l-.94 2.06-2.06.94zm10 10l.94 2.06.94-2.06 2.06-.94-2.06-.94-.94-2.06-.94 2.06-2.06.94z\"/><path d=\"M17.41 7.96l-1.37-1.37c-.4-.4-.92-.59-1.43-.59-.52 0-1.04.2-1.43.59L10.3 9.45l-7.72 7.72c-.78.78-.78 2.05 0 2.83L4 21.41c.39.39.9.59 1.41.59.51 0 1.02-.2 1.41-.59l7.78-7.78 2.81-2.81c.8-.78.8-2.07 0-2.86zM5.41 20L4 18.59l7.72-7.72 1.47 1.35L5.41 20z\"/>\n",
              "  </svg>\n",
              "      </button>\n",
              "      \n",
              "  <style>\n",
              "    .colab-df-container {\n",
              "      display:flex;\n",
              "      flex-wrap:wrap;\n",
              "      gap: 12px;\n",
              "    }\n",
              "\n",
              "    .colab-df-convert {\n",
              "      background-color: #E8F0FE;\n",
              "      border: none;\n",
              "      border-radius: 50%;\n",
              "      cursor: pointer;\n",
              "      display: none;\n",
              "      fill: #1967D2;\n",
              "      height: 32px;\n",
              "      padding: 0 0 0 0;\n",
              "      width: 32px;\n",
              "    }\n",
              "\n",
              "    .colab-df-convert:hover {\n",
              "      background-color: #E2EBFA;\n",
              "      box-shadow: 0px 1px 2px rgba(60, 64, 67, 0.3), 0px 1px 3px 1px rgba(60, 64, 67, 0.15);\n",
              "      fill: #174EA6;\n",
              "    }\n",
              "\n",
              "    [theme=dark] .colab-df-convert {\n",
              "      background-color: #3B4455;\n",
              "      fill: #D2E3FC;\n",
              "    }\n",
              "\n",
              "    [theme=dark] .colab-df-convert:hover {\n",
              "      background-color: #434B5C;\n",
              "      box-shadow: 0px 1px 3px 1px rgba(0, 0, 0, 0.15);\n",
              "      filter: drop-shadow(0px 1px 2px rgba(0, 0, 0, 0.3));\n",
              "      fill: #FFFFFF;\n",
              "    }\n",
              "  </style>\n",
              "\n",
              "      <script>\n",
              "        const buttonEl =\n",
              "          document.querySelector('#df-93dfe7da-f622-462c-8335-7347dfccbe46 button.colab-df-convert');\n",
              "        buttonEl.style.display =\n",
              "          google.colab.kernel.accessAllowed ? 'block' : 'none';\n",
              "\n",
              "        async function convertToInteractive(key) {\n",
              "          const element = document.querySelector('#df-93dfe7da-f622-462c-8335-7347dfccbe46');\n",
              "          const dataTable =\n",
              "            await google.colab.kernel.invokeFunction('convertToInteractive',\n",
              "                                                     [key], {});\n",
              "          if (!dataTable) return;\n",
              "\n",
              "          const docLinkHtml = 'Like what you see? Visit the ' +\n",
              "            '<a target=\"_blank\" href=https://colab.research.google.com/notebooks/data_table.ipynb>data table notebook</a>'\n",
              "            + ' to learn more about interactive tables.';\n",
              "          element.innerHTML = '';\n",
              "          dataTable['output_type'] = 'display_data';\n",
              "          await google.colab.output.renderOutput(dataTable, element);\n",
              "          const docLink = document.createElement('div');\n",
              "          docLink.innerHTML = docLinkHtml;\n",
              "          element.appendChild(docLink);\n",
              "        }\n",
              "      </script>\n",
              "    </div>\n",
              "  </div>\n",
              "  "
            ]
          },
          "metadata": {},
          "execution_count": 8
        }
      ]
    },
    {
      "cell_type": "code",
      "source": [
        "# YOUR CODE HERE\n",
        "df_residents_hesp = df_residents[df_residents[\"Ethnicity\"] == \"Hispanic\"]\n",
        "df_residents_white = df_residents[df_residents[\"Ethnicity\"] == \"White not Hispanic\"]\n",
        "frames = [df_residents_hesp, df_residents_white]\n",
        "df_residents_hesp_white = pd.concat(frames)\n",
        "df_residents_hesp_white.groupby(\"Ethnicity\")[\"Expenditures\"].mean().plot.bar()"
      ],
      "metadata": {
        "colab": {
          "base_uri": "https://localhost:8080/",
          "height": 382
        },
        "id": "iZe8QxXSbwEu",
        "outputId": "30523817-091b-45d1-f40a-438e44ed641a"
      },
      "execution_count": 2,
      "outputs": [
        {
          "output_type": "execute_result",
          "data": {
            "text/plain": [
              "<matplotlib.axes._subplots.AxesSubplot at 0x7ff65e185040>"
            ]
          },
          "metadata": {},
          "execution_count": 2
        },
        {
          "output_type": "display_data",
          "data": {
            "text/plain": [
              "<Figure size 432x288 with 1 Axes>"
            ],
            "image/png": "[encoded data removed]"
          },
          "metadata": {
            "needs_background": "light"
          }
        }
      ]
    },
    {
      "cell_type": "markdown",
      "metadata": {
        "id": "FvfRcog37rEf"
      },
      "source": [
        "**YOUR EXPLANATION HERE**"
      ]
    },
    {
      "cell_type": "markdown",
      "source": [
        "There are sinificantly more Expenditures spent on White (not Hispanic) residents than Hispanic residents in this data set."
      ],
      "metadata": {
        "id": "IjS4Hl0Spobh"
      }
    },
    {
      "cell_type": "markdown",
      "metadata": {
        "id": "CmxE7M3o7rEg"
      },
      "source": [
        "# Question 2\n",
        "\n",
        "Now, calculate the average expenditures by ethnicity and age cohort. Make a graphic that compares the average expenditure on Hispanic residents and white (non-Hispanic) residents, _within each age cohort_. \n",
        "\n",
        "Comment on what you see. How do these results appear to contradict the results you obtained in Question 1?"
      ]
    },
    {
      "cell_type": "code",
      "metadata": {
        "id": "u_J1LRI37rEh",
        "colab": {
          "base_uri": "https://localhost:8080/"
        },
        "outputId": "4232c628-9b12-4d89-b3cf-bb060256a0ac"
      },
      "source": [
        "df_residents.groupby([\"Ethnicity\", \"Age Cohort\"])[\"Expenditures\"].mean()"
      ],
      "execution_count": 3,
      "outputs": [
        {
          "output_type": "execute_result",
          "data": {
            "text/plain": [
              "Ethnicity           Age Cohort\n",
              "American Indian     13 to 17       3726.000000\n",
              "                    22 to 50      28205.000000\n",
              "                    51+           56911.000000\n",
              "Asian               0 to 5         1502.250000\n",
              "                    13 to 17       3509.100000\n",
              "                    18 to 21       9598.170732\n",
              "                    22 to 50      39580.517241\n",
              "                    51+           54622.615385\n",
              "                    6 to 12        2164.555556\n",
              "Black               0 to 5         1083.000000\n",
              "                    13 to 17       4521.750000\n",
              "                    18 to 21       8847.444444\n",
              "                    22 to 50      40573.058824\n",
              "                    51+           54010.142857\n",
              "                    6 to 12        2476.454545\n",
              "Hispanic            0 to 5         1393.204545\n",
              "                    13 to 17       3955.281553\n",
              "                    18 to 21       9959.846154\n",
              "                    22 to 50      40924.116279\n",
              "                    51+           55585.000000\n",
              "                    6 to 12        2312.186813\n",
              "Multi Race          0 to 5         1735.285714\n",
              "                    13 to 17       3972.285714\n",
              "                    18 to 21       9309.000000\n",
              "                    22 to 50      38619.000000\n",
              "                    6 to 12        2076.111111\n",
              "Native Hawaiian     22 to 50      39103.000000\n",
              "                    51+           50141.000000\n",
              "Other               13 to 17       3316.500000\n",
              "White not Hispanic  0 to 5         1366.900000\n",
              "                    13 to 17       3904.358209\n",
              "                    18 to 21      10133.057971\n",
              "                    22 to 50      40187.624060\n",
              "                    51+           52670.424242\n",
              "                    6 to 12        2052.260870\n",
              "Name: Expenditures, dtype: float64"
            ]
          },
          "metadata": {},
          "execution_count": 3
        }
      ]
    },
    {
      "cell_type": "code",
      "source": [
        "df_residents_hesp_white.groupby([\"Ethnicity\", \"Age Cohort\"])[\"Expenditures\"].mean().plot.bar()"
      ],
      "metadata": {
        "colab": {
          "base_uri": "https://localhost:8080/",
          "height": 437
        },
        "id": "dYxRr_wHt7R3",
        "outputId": "e6829991-2480-409a-8d07-14a890a53289"
      },
      "execution_count": 4,
      "outputs": [
        {
          "output_type": "execute_result",
          "data": {
            "text/plain": [
              "<matplotlib.axes._subplots.AxesSubplot at 0x7ff65e0c0c10>"
            ]
          },
          "metadata": {},
          "execution_count": 4
        },
        {
          "output_type": "display_data",
          "data": {
            "text/plain": [
              "<Figure size 432x288 with 1 Axes>"
            ],
            "image/png": "[encoded data removed]"
          },
          "metadata": {
            "needs_background": "light"
          }
        }
      ]
    },
    {
      "cell_type": "markdown",
      "source": [
        "These results differ from the observations I made in Question one, because in this graph, it appears that there's approximately the same amount of expenditures spent on those two races within each age cohort. On the contrary, it appeared to be way more for White residents in the previuos graph, which indicates that the different age cohorts affect this data."
      ],
      "metadata": {
        "id": "eFh154huuwjD"
      }
    },
    {
      "cell_type": "markdown",
      "metadata": {
        "id": "vNJHIPO77rEm"
      },
      "source": [
        "# Question 3\n",
        "\n",
        "Can you explain the discrepancy between the two analyses you conducted above (i.e., Questions 1 and 2)? Try to tell a complete story that interweaves tables, graphics, and explanation.\n",
        "\n",
        "_Hint:_ You might want to consider looking at:\n",
        "\n",
        "- the distributions of ages of Hispanics and whites\n",
        "- the average expenditure as a function of age"
      ]
    },
    {
      "cell_type": "code",
      "metadata": {
        "id": "mo4aLinP7rEn",
        "colab": {
          "base_uri": "https://localhost:8080/"
        },
        "outputId": "df6fc41b-a0b3-4e92-e388-6351f50ad728"
      },
      "source": [
        "df_residents_hesp_white.groupby(\"Ethnicity\")[\"Age Cohort\"].value_counts(sort=False)"
      ],
      "execution_count": 5,
      "outputs": [
        {
          "output_type": "execute_result",
          "data": {
            "text/plain": [
              "Ethnicity           Age Cohort\n",
              "Hispanic            0 to 5         44\n",
              "                    13 to 17      103\n",
              "                    18 to 21       78\n",
              "                    22 to 50       43\n",
              "                    51+            17\n",
              "                    6 to 12        91\n",
              "White not Hispanic  0 to 5         20\n",
              "                    13 to 17       67\n",
              "                    18 to 21       69\n",
              "                    22 to 50      133\n",
              "                    51+            66\n",
              "                    6 to 12        46\n",
              "Name: Age Cohort, dtype: int64"
            ]
          },
          "metadata": {},
          "execution_count": 5
        }
      ]
    },
    {
      "cell_type": "markdown",
      "source": [
        "The Hispanic residents had significanlty more younger residents (from age 0-21), and the White residents had significanlty more older residents (22-51+)"
      ],
      "metadata": {
        "id": "vN2NgbJKyxna"
      }
    },
    {
      "cell_type": "code",
      "source": [
        "df_residents.groupby(\"Age Cohort\")[\"Expenditures\"].mean().plot.bar()"
      ],
      "metadata": {
        "colab": {
          "base_uri": "https://localhost:8080/",
          "height": 329
        },
        "id": "LNiynCXJzR0y",
        "outputId": "c49b316d-aa2c-4aa5-b77a-acb0c11de9fb"
      },
      "execution_count": 6,
      "outputs": [
        {
          "output_type": "execute_result",
          "data": {
            "text/plain": [
              "<matplotlib.axes._subplots.AxesSubplot at 0x7ff65dc08820>"
            ]
          },
          "metadata": {},
          "execution_count": 6
        },
        {
          "output_type": "display_data",
          "data": {
            "text/plain": [
              "<Figure size 432x288 with 1 Axes>"
            ],
            "image/png": "[encoded data removed]"
          },
          "metadata": {
            "needs_background": "light"
          }
        }
      ]
    },
    {
      "cell_type": "markdown",
      "source": [
        "There are significantly more Expenditures given to older residents than younger residents."
      ],
      "metadata": {
        "id": "QYtSGWRKztHw"
      }
    },
    {
      "cell_type": "markdown",
      "source": [
        "There is a clear discrepancy between the two analyses I conducted above in Questions 1 and Question 2. The graph I produced in Question 1 indicates that There are sinificantly more Expenditures spent on White (not Hispanic) residents than Hispanic residents. While the graph in Question 2 shows that  there's approximately the same amount of expenditures spent on those two races. This makes sense because in the second graph we account for the expenditures within each age cohort. From the grpah above, you can clearly tell that there are significantly more expenditures given to older residents (from age 22-51+) than younger residents (from age 0-21). Based on the distributions of ages of Hispanics and whites, the Hispanic residents had significanlty more younger residents, while the White residents had significanlty more older residents. Therefore, by taking those two factors into account, this illustrates why there was a discrepancy in the two graphs from Q1 and Q2."
      ],
      "metadata": {
        "id": "gG6SRyNyz5v4"
      }
    },
    {
      "cell_type": "markdown",
      "metadata": {
        "id": "4JdcqKm57rEr"
      },
      "source": [
        "## Submission Instructions\n",
        "\n",
        "- Copy this notebook to your own Drive, if you have not already.\n",
        "- Restart this notebook and run the cells from beginning to end. \n",
        "  - Go to Runtime > Restart and Run All.\n",
        "- Rename this notebook by clicking on \"DATA 301 Lab 2B - YOUR NAME HERE\" at the very top of this page. Replace \"YOUR NAMES HERE\" with the first and last names of you (and your partners, for Phase 2).\n",
        "- Get the link to your notebook:\n",
        "  - Click on \"Share\" at the top-right. \n",
        "  - Change the settings to \"Anyone with the link can view\". \n",
        "  - Copy the sharing link into Canvas."
      ]
    }
  ]
}